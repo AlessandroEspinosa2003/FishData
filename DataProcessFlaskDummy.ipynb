{
  "nbformat": 4,
  "nbformat_minor": 0,
  "metadata": {
    "colab": {
      "provenance": [],
      "include_colab_link": true
    },
    "kernelspec": {
      "name": "python3",
      "display_name": "Python 3"
    },
    "language_info": {
      "name": "python"
    }
  },
  "cells": [
    {
      "cell_type": "markdown",
      "metadata": {
        "id": "view-in-github",
        "colab_type": "text"
      },
      "source": [
        "<a href=\"https://colab.research.google.com/github/AlessandroEspinosa2003/FishData/blob/AlessandroBranch/DataProcessFlask.ipynb\" target=\"_parent\"><img src=\"https://colab.research.google.com/assets/colab-badge.svg\" alt=\"Open In Colab\"/></a>"
      ]
    },
    {
      "cell_type": "code",
      "execution_count": 24,
      "metadata": {
        "id": "aPJLhQWhaIkh",
        "colab": {
          "base_uri": "https://localhost:8080/"
        },
        "outputId": "dccc15df-a549-425c-dd0f-3f7927a81abb"
      },
      "outputs": [
        {
          "output_type": "execute_result",
          "data": {
            "text/plain": [
              "<Response 93289 bytes [200 OK]>"
            ]
          },
          "metadata": {},
          "execution_count": 24
        }
      ],
      "source": [
        "import io\n",
        "from flask import Response\n",
        "from matplotlib.backends.backend_agg import FigureCanvasAgg as FigureCanvas\n",
        "from matplotlib.figure import Figure\n",
        "from flask import Flask\n",
        "import numpy as np\n",
        "import matplotlib.pyplot as plt\n",
        "\n",
        "# Load the data set from the special file.\n",
        "#data = np.load('FishData.txt.npy')\n",
        "\n",
        "# Test: Did everything load?\n",
        "#data\n",
        "\n",
        "# Separate the data by species. Each new array should only contain data\n",
        "# about the particular species.\n",
        "#species = ['CRAB, BLUE', 'TUNA, YELLOWFIN', 'SNAPPER, RED', 'SHRIMP, ROCK',\n",
        " #          'MACKAREL, KING']\n",
        "\n",
        "#crab = data[:, ]\n",
        "\n",
        "plt.rcParams[\"figure.figsize\"] = [7.50, 3.50]\n",
        "plt.rcParams[\"figure.autolayout\"] = True\n",
        "\n",
        "app = Flask(__name__)\n",
        "@app.route('/print-plot')\n",
        "\n",
        "def plot_png():\n",
        "  fig = Figure()\n",
        "  axis = fig.add_subplot(1,1,1)\n",
        "  xs = np.random.rand(100)\n",
        "  ys = np.random.rand(100)\n",
        "  axis.plot(xs, ys)\n",
        "  output = io.BytesIO()\n",
        "  FigureCanvas(fig).print_png(output)\n",
        "  return Response(output.getvalue(), mimetype = 'image/png')\n",
        "plot_png()"
      ]
    }
  ]
}
