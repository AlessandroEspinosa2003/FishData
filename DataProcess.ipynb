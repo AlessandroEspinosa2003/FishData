{
  "nbformat": 4,
  "nbformat_minor": 0,
  "metadata": {
    "colab": {
      "provenance": []
    },
    "kernelspec": {
      "name": "python3",
      "display_name": "Python 3"
    },
    "language_info": {
      "name": "python"
    }
  },
  "cells": [
    {
      "cell_type": "code",
      "execution_count": 8,
      "metadata": {
        "id": "aPJLhQWhaIkh"
      },
      "outputs": [],
      "source": [
        "import numpy as np\n",
        "import pandas as pd\n",
        "import flask\n",
        "\n",
        "# Load the data set from the special file.\n",
        "data = np.load('FishData.txt.npy')\n",
        "\n",
        "# Test: Did everything load?\n",
        "data\n",
        "\n",
        "# Separate the data by species. Each new array should only contain data\n",
        "# about the particular species.\n",
        "species = ['CRAB, BLUE', 'TUNA, YELLOWFIN', 'SNAPPER, RED', 'SHRIMP, ROCK',\n",
        "           'MACKAREL, KING']\n",
        "\n",
        "# These return the rows containing the indicated species.\n",
        "crab = np.where(data[:, 2] == species[0])\n",
        "tuna = np.where(data[:, 2] == species[1])\n",
        "snap = np.where(data[:, 2] == species[2])\n",
        "shrimp = np.where(data[:, 2] == species[3])\n",
        "mack = np.where(data[:, 2] == species[4])\n",
        "\n",
        "# Now separate.\n",
        "crab_data = data[crab, :]\n",
        "tuna_data = data[tuna, :]\n",
        "snap_data = data[snap, :]\n",
        "shrimp_data = data[shrimp, :]\n",
        "mack_data = data[mack, :]"
      ]
    }
  ]
}