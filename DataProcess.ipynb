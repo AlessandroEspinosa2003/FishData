{
  "nbformat": 4,
  "nbformat_minor": 0,
  "metadata": {
    "colab": {
      "provenance": [],
      "include_colab_link": true
    },
    "kernelspec": {
      "name": "python3",
      "display_name": "Python 3"
    },
    "language_info": {
      "name": "python"
    }
  },
  "cells": [
    {
      "cell_type": "markdown",
      "metadata": {
        "id": "view-in-github",
        "colab_type": "text"
      },
      "source": [
        "<a href=\"https://colab.research.google.com/github/AlessandroEspinosa2003/FishData/blob/SeanBranch/DataProcess.ipynb\" target=\"_parent\"><img src=\"https://colab.research.google.com/assets/colab-badge.svg\" alt=\"Open In Colab\"/></a>"
      ]
    },
    {
      "cell_type": "code",
      "execution_count": 8,
      "metadata": {
        "id": "aPJLhQWhaIkh"
      },
      "outputs": [],
      "source": [
        "import numpy as np\n",
        "import pandas as pd\n",
        "import flask\n",
        "\n",
        "# Load the data set from the special file.\n",
        "data = np.load('FishData.txt.npy')\n",
        "\n",
        "# Test: Did everything load?\n",
        "data\n",
        "\n",
        "# Separate the data by species. Each new array should only contain data\n",
        "# about the particular species.\n",
        "species = ['CRAB, BLUE', 'TUNA, YELLOWFIN', 'SNAPPER, RED', 'SHRIMP, ROCK',\n",
        "           'MACKAREL, KING']\n",
        "\n",
        "# These return the rows containing the indicated species.\n",
        "crab = np.where(data[:, 2] == species[0])\n",
        "tuna = np.where(data[:, 2] == species[1])\n",
        "snap = np.where(data[:, 2] == species[2])\n",
        "shrimp = np.where(data[:, 2] == species[3])\n",
        "mack = np.where(data[:, 2] == species[4])\n",
        "\n",
        "#"
      ]
    }
  ]
}