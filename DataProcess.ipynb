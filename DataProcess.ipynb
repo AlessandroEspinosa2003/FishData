{
  "nbformat": 4,
  "nbformat_minor": 0,
  "metadata": {
    "colab": {
      "provenance": [],
      "include_colab_link": true
    },
    "kernelspec": {
      "name": "python3",
      "display_name": "Python 3"
    },
    "language_info": {
      "name": "python"
    }
  },
  "cells": [
    {
      "cell_type": "markdown",
      "metadata": {
        "id": "view-in-github",
        "colab_type": "text"
      },
      "source": [
        "<a href=\"https://colab.research.google.com/github/AlessandroEspinosa2003/FishData/blob/SeanBranch/DataProcess.ipynb\" target=\"_parent\"><img src=\"https://colab.research.google.com/assets/colab-badge.svg\" alt=\"Open In Colab\"/></a>"
      ]
    },
    {
      "cell_type": "code",
      "execution_count": 14,
      "metadata": {
        "id": "aPJLhQWhaIkh"
      },
      "outputs": [],
      "source": [
        "from ast import Lambda\n",
        "import numpy as np\n",
        "import pandas as pd\n",
        "import flask\n",
        "import matplotlib.pyplot as plt\n",
        "\n",
        "# Load the data set from the special file.\n",
        "data = np.load('FishData.txt.npy')\n",
        "\n",
        "# Test: Did everything load?\n",
        "data\n",
        "\n",
        "# Separate the data by species. Each new array should only contain data\n",
        "# about the particular species.\n",
        "species = ['CRAB, BLUE', 'TUNA, YELLOWFIN', 'SNAPPER, RED', 'SHRIMP, ROCK',\n",
        "           'MACKAREL, KING']\n",
        "\n",
        "# These return the rows containing the indicated species.\n",
        "crab = np.where(data[:, 2] == species[0])\n",
        "tuna = np.where(data[:, 2] == species[1])\n",
        "snap = np.where(data[:, 2] == species[2])\n",
        "shrimp = np.where(data[:, 2] == species[3])\n",
        "mack = np.where(data[:, 2] == species[4])\n",
        "\n",
        "# Now separate.\n",
        "crab_data = data[crab, :]\n",
        "tuna_data = data[tuna, :]\n",
        "snap_data = data[snap, :]\n",
        "shrimp_data = data[shrimp, :]\n",
        "mack_data = data[mack, :]\n",
        "\n",
        "# These are the rows that correspond to an animal being fished in\n",
        "# that state.\n",
        "TX = [np.where((data[:, 1] == 'TEXAS') & (data[:, 2] == species[j]))\n",
        "for j in range(0, 5)]\n",
        "\n",
        "MS = [np.where((data[:, 1] == 'MISSISSIPPI') & (data[:, 2] == species[j]))\n",
        "for j in range(0, 5)]\n",
        "\n",
        "AL = [np.where((data[:, 1] == 'ALABAMA') & (data[:, 2] == species[j]))\n",
        "for j in range(0, 5)]\n",
        "\n",
        "LA = [np.where((data[:, 1] == 'LOUISIANA') & (data[:, 2] == species[j]))\n",
        "for j in range(0, 5)]\n",
        "\n",
        "FL = [np.where((data[:, 1] == 'FLORIDA-WEST') & (data[:, 2] == species[j]))\n",
        "for j in range(0, 5)]"
      ]
    }
  ]
}